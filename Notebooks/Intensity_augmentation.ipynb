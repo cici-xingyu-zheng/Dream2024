{
 "cells": [
  {
   "cell_type": "code",
   "execution_count": 1,
   "metadata": {},
   "outputs": [],
   "source": [
    "import os\n",
    "import sys\n",
    "\n",
    "# Get the current working directory\n",
    "current_dir = os.getcwd()\n",
    "# Add the ./src folder to the Python module search path\n",
    "sys.path.append(os.path.join(current_dir, '..', 'src'))\n",
    "\n",
    "from utils import *\n",
    "\n",
    "import numpy as np\n",
    "import pandas as pd\n",
    "from scipy import stats\n",
    "import seaborn as sns\n",
    "import matplotlib.pyplot as plt\n",
    "import os\n",
    "from sklearn.ensemble import RandomForestRegressor\n",
    "from sklearn.model_selection import train_test_split, KFold, RandomizedSearchCV\n",
    "from sklearn.metrics import r2_score\n",
    "from sklearn.preprocessing import StandardScaler\n",
    "from sklearn.preprocessing import OneHotEncoder\n",
    "\n",
    "import xgboost as xgb\n",
    "\n",
    "sns.set_style('ticks')"
   ]
  },
  {
   "cell_type": "code",
   "execution_count": 3,
   "metadata": {},
   "outputs": [],
   "source": [
    "input_path = '../Data'\n",
    "\n",
    "feature_file = 'deepnose_features.npy'\n",
    "CID_file = 'molecules_train_cid.npy'\n",
    "\n",
    "mixture_file = 'Mixure_Definitions_Training_set.csv'\n",
    "intensity_file = 'Mixure_Definitions_Intensity_Training_set.csv'\n",
    "training_task_file = 'TrainingData_mixturedist.csv'\n",
    "\n",
    "features = np.load(os.path.join(input_path, feature_file))\n",
    "training_set = pd.read_csv(os.path.join(input_path, training_task_file))\n",
    "mixtures_IDs = pd.read_csv(os.path.join(input_path, mixture_file))\n",
    "molecule_intensities = pd.read_csv(os.path.join(input_path, intensity_file))\n",
    "\n",
    "features_CIDs = np.load(os.path.join(input_path, CID_file))"
   ]
  },
  {
   "cell_type": "code",
   "execution_count": 5,
   "metadata": {},
   "outputs": [],
   "source": [
    "extended_features = np.load(os.path.join(input_path, 'Extra/deepnose_features_extRavia.npy'))\n",
    "extended_training_set = pd.read_csv(os.path.join(input_path, 'Extra/extended_training_set.csv'))\n",
    "extended_mixture_IDs = pd.read_csv(os.path.join(input_path, 'Extra/extended_mixture_IDs.csv'))\n",
    "extended_molecule_intensities = pd.read_csv(os.path.join(input_path, 'Extra/extended_molecule_intensites.csv'))\n",
    "extended_features_CIDs = np.load(os.path.join(input_path, 'Extra/extended_ravia_cid.npy'))"
   ]
  },
  {
   "cell_type": "code",
   "execution_count": 7,
   "metadata": {},
   "outputs": [],
   "source": [
    "scaler = StandardScaler(with_mean=True, with_std=True)\n",
    "epsilon = 1e-8\n",
    "features = scaler.fit_transform(np.log(features + epsilon))\n",
    "CID2features =  {CID: features[i] for i, CID in enumerate(features_CIDs)}"
   ]
  },
  {
   "cell_type": "code",
   "execution_count": 8,
   "metadata": {},
   "outputs": [],
   "source": [
    "extended_features = scaler.fit_transform(np.log(extended_features + epsilon))\n",
    "extended_CID2features =  {CID: extended_features[i] for i, CID in enumerate(extended_features_CIDs)}"
   ]
  },
  {
   "cell_type": "code",
   "execution_count": 12,
   "metadata": {},
   "outputs": [],
   "source": [
    "overlapped_CIDs = list(set(extended_features_CIDs) & set(features_CIDs))"
   ]
  },
  {
   "cell_type": "code",
   "execution_count": 18,
   "metadata": {},
   "outputs": [
    {
     "data": {
      "text/plain": [
       "7685"
      ]
     },
     "execution_count": 18,
     "metadata": {},
     "output_type": "execute_result"
    }
   ],
   "source": [
    "overlapped_CIDs[2]"
   ]
  },
  {
   "cell_type": "code",
   "execution_count": 19,
   "metadata": {},
   "outputs": [
    {
     "data": {
      "text/plain": [
       "array([-0.6388651 ,  0.4503178 , -2.8675652 ,  0.609993  ,  0.97016764,\n",
       "        0.23411527, -2.7468708 ,  0.24428843, -0.38222095,  0.5383045 ,\n",
       "        0.15903747,  0.9139166 ,  1.1911384 , -1.0407802 ,  0.370728  ,\n",
       "        0.30130258,  1.4418327 , -3.173565  ,  0.6516021 , -0.42085725,\n",
       "        1.0365294 , -0.35263148, -2.3338556 ,  1.044887  , -3.4085736 ,\n",
       "       -0.38133386,  0.7302112 , -0.09287866,  0.81119543, -2.03048   ,\n",
       "        1.3058816 , -0.58691734,  0.26965508,  0.9689213 ,  1.4070765 ,\n",
       "        0.74946094,  1.2294598 , -0.10233068, -0.512149  ,  1.2577751 ,\n",
       "        0.79386145,  0.6082443 ,  1.1229733 , -0.0207714 ,  1.3238311 ,\n",
       "       -0.3392976 , -1.2833303 ,  0.08008947,  1.1110983 , -0.6123032 ,\n",
       "        0.82366085,  0.19103968,  1.3918239 , -2.6403458 , -1.5239561 ,\n",
       "        0.59876573,  0.5386844 ,  0.7853049 , -0.13104261,  0.7949549 ,\n",
       "        0.00553943,  0.3444532 ,  0.6002516 , -1.2594389 ,  0.05554546,\n",
       "        1.1588099 ,  1.186529  , -1.4505392 ,  0.3017367 ,  0.4344756 ,\n",
       "       -2.326104  ,  0.05042202, -0.35698795, -3.710294  ,  0.6638287 ,\n",
       "       -0.2300882 , -1.109339  ,  0.61423683,  0.5982923 , -0.3510672 ,\n",
       "       -0.21617238,  0.765259  ,  0.5361398 , -0.5172076 ,  0.5019991 ,\n",
       "       -2.926773  ,  1.0256042 ,  1.3173668 , -0.7958124 ,  1.1176282 ,\n",
       "        0.05167921,  0.25019863, -0.66707516,  1.0044217 ,  0.86485213,\n",
       "       -0.88055044], dtype=float32)"
      ]
     },
     "execution_count": 19,
     "metadata": {},
     "output_type": "execute_result"
    }
   ],
   "source": [
    "extended_CID2features[7685]"
   ]
  },
  {
   "cell_type": "code",
   "execution_count": 20,
   "metadata": {},
   "outputs": [
    {
     "data": {
      "text/plain": [
       "array([ 0.87533164, -0.6139562 , -0.17408392, -0.28298667, -0.6783192 ,\n",
       "       -0.34800217, -0.2615543 ,  0.10881349,  0.74374294,  0.24179766,\n",
       "        1.3151215 ,  0.6629258 ,  1.0865839 , -1.4804327 ,  0.6645047 ,\n",
       "        0.4755322 ,  1.0925835 , -0.02570823,  0.35483354, -0.06304997,\n",
       "        0.7771459 , -1.5664965 ,  0.6042431 , -0.8280097 ,  0.7055481 ,\n",
       "        0.33589053,  0.66655105, -0.22875623,  0.0765844 , -0.08891495,\n",
       "        0.83909965,  0.15219378,  0.544762  ,  0.5708272 , -0.13960183,\n",
       "       -0.6636506 ,  0.5237899 , -1.1565725 ,  0.98964834,  0.4635179 ,\n",
       "        0.8241205 ,  1.4461416 ,  0.58756804,  0.57770926,  0.6313476 ,\n",
       "       -0.34951535, -0.27902558,  0.07611417,  1.1588628 , -0.01293533,\n",
       "        0.6785559 ,  0.20618747,  1.1102014 ,  0.57313454,  0.62411094,\n",
       "        0.3140369 ,  0.40320694,  0.10476496,  0.75319016,  1.087657  ,\n",
       "        1.3832383 ,  0.57359654, -1.3234941 , -0.30602968, -1.4204576 ,\n",
       "       -0.34772623,  1.0671082 , -0.02976478,  0.64885163,  1.0866319 ,\n",
       "        0.8594604 ,  0.85872465, -0.35911143,  1.2759409 ,  0.9776175 ,\n",
       "       -0.04945958,  1.3525368 ,  0.49436328,  0.7821872 ,  0.7039543 ,\n",
       "        0.19471602, -1.1857786 ,  0.3405098 , -0.33156192,  0.9228039 ,\n",
       "        0.9116171 ,  0.7060627 ,  0.8667307 ,  0.4497435 ,  0.3660707 ,\n",
       "        0.32155016, -0.58090943, -0.73087245,  1.4648011 ,  1.0943441 ,\n",
       "        0.287346  ], dtype=float32)"
      ]
     },
     "execution_count": 20,
     "metadata": {},
     "output_type": "execute_result"
    }
   ],
   "source": [
    "CID2features[7685]"
   ]
  },
  {
   "cell_type": "code",
   "execution_count": null,
   "metadata": {},
   "outputs": [],
   "source": [
    "# Define the scaling constant\n",
    "scaling_constant = 6.5  # Adjust this value as needed\n",
    "\n",
    "# Get the list of column names containing \"CID\"\n",
    "cid_columns = [col for col in molecule_intensities.columns if 'CID' in col]\n",
    "\n",
    "# Create a mask to identify rows where \"Dataset\" is in ['Snitz 1', 'Snitz 2', 'Bushdid']\n",
    "mask = molecule_intensities['Dataset'].isin(['Snitz 1', 'Snitz 2', 'Bushdid'])\n",
    "\n",
    "# Scale the values of \"CID\" columns for the selected rows\n",
    "molecule_intensities.loc[mask, cid_columns] *= scaling_constant"
   ]
  }
 ],
 "metadata": {
  "kernelspec": {
   "display_name": "Python 3",
   "language": "python",
   "name": "python3"
  },
  "language_info": {
   "codemirror_mode": {
    "name": "ipython",
    "version": 3
   },
   "file_extension": ".py",
   "mimetype": "text/x-python",
   "name": "python",
   "nbconvert_exporter": "python",
   "pygments_lexer": "ipython3",
   "version": "3.11.5"
  }
 },
 "nbformat": 4,
 "nbformat_minor": 2
}
