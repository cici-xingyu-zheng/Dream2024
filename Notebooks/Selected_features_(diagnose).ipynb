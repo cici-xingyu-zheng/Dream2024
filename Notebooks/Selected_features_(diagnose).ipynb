{
 "cells": [
  {
   "cell_type": "code",
   "execution_count": 1,
   "metadata": {},
   "outputs": [],
   "source": [
    "import scipy.io\n",
    "import os"
   ]
  },
  {
   "cell_type": "code",
   "execution_count": 2,
   "metadata": {},
   "outputs": [
    {
     "data": {
      "text/plain": [
       "array([[1.52717963, 1.52717963, 1.54738137, ..., 1.52836675, 1.56977914,\n",
       "        1.55633227],\n",
       "       [1.52717963, 1.52717963, 1.54738137, ..., 1.52717963, 1.57663783,\n",
       "        1.52717963],\n",
       "       [1.52717963, 1.52717963, 1.54738137, ..., 1.52757533, 1.57086448,\n",
       "        1.55672443],\n",
       "       ...,\n",
       "       [1.52717963, 1.52892863, 1.54411523, ..., 1.52845164, 1.57677677,\n",
       "        1.55802517],\n",
       "       [1.52717963, 1.52717963, 1.53653185, ..., 1.5290262 , 1.58547281,\n",
       "        1.56435572],\n",
       "       [1.52821159, 1.5341592 , 1.54752331, ..., 1.52889962, 1.57584889,\n",
       "        1.55643962]])"
      ]
     },
     "execution_count": 2,
     "metadata": {},
     "output_type": "execute_result"
    }
   ],
   "source": [
    "input_path = '../Data/'\n",
    "feature_file = 'featureSelection/selection_meanDragon.mat'\n",
    "\n",
    "features = scipy.io.loadmat(os.path.join(input_path, feature_file))\n",
    "features['XSelected']"
   ]
  },
  {
   "cell_type": "code",
   "execution_count": 7,
   "metadata": {},
   "outputs": [
    {
     "data": {
      "text/plain": [
       "(712, 6234)"
      ]
     },
     "execution_count": 7,
     "metadata": {},
     "output_type": "execute_result"
    }
   ],
   "source": [
    "features['X'].shape # that's all dragon"
   ]
  },
  {
   "cell_type": "code",
   "execution_count": 6,
   "metadata": {},
   "outputs": [
    {
     "data": {
      "text/plain": [
       "(712, 62)"
      ]
     },
     "execution_count": 6,
     "metadata": {},
     "output_type": "execute_result"
    }
   ],
   "source": [
    "features['XSelected'].shape # this is selected dragon"
   ]
  },
  {
   "cell_type": "code",
   "execution_count": 5,
   "metadata": {},
   "outputs": [
    {
     "data": {
      "text/plain": [
       "dict_keys(['__header__', '__version__', '__globals__', 'maxScore', 'boolSelect', 'indexSelect', 'X', 'XSelected'])"
      ]
     },
     "execution_count": 5,
     "metadata": {},
     "output_type": "execute_result"
    }
   ],
   "source": [
    "features.keys()"
   ]
  },
  {
   "cell_type": "code",
   "execution_count": 10,
   "metadata": {},
   "outputs": [
    {
     "data": {
      "text/plain": [
       "(3117,)"
      ]
     },
     "execution_count": 10,
     "metadata": {},
     "output_type": "execute_result"
    }
   ],
   "source": [
    "features['boolSelect'][0].shape"
   ]
  },
  {
   "cell_type": "code",
   "execution_count": null,
   "metadata": {},
   "outputs": [],
   "source": []
  }
 ],
 "metadata": {
  "kernelspec": {
   "display_name": "feedback",
   "language": "python",
   "name": "python3"
  },
  "language_info": {
   "codemirror_mode": {
    "name": "ipython",
    "version": 3
   },
   "file_extension": ".py",
   "mimetype": "text/x-python",
   "name": "python",
   "nbconvert_exporter": "python",
   "pygments_lexer": "ipython3",
   "version": "3.11.5"
  }
 },
 "nbformat": 4,
 "nbformat_minor": 2
}
